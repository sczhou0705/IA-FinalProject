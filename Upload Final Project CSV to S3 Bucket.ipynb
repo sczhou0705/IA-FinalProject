{
 "cells": [
  {
   "cell_type": "markdown",
   "metadata": {},
   "source": [
    "### Import Libraries"
   ]
  },
  {
   "cell_type": "code",
   "execution_count": null,
   "metadata": {},
   "outputs": [],
   "source": [
    "# import pandas\n",
    "import pandas as pd\n",
    "import numpy as np\n",
    "import boto.connection\n",
    "import boto3\n",
    "import sqlite3\n",
    "import os\n",
    "from io import StringIO"
   ]
  },
  {
   "cell_type": "markdown",
   "metadata": {},
   "source": [
    "### Part I: Take the data set and loads it into pandas"
   ]
  },
  {
   "cell_type": "code",
   "execution_count": null,
   "metadata": {},
   "outputs": [],
   "source": [
    "# ignore scientific notations\n",
    "\n",
    "np.set_printoptions(suppress = True)\n",
    "\n",
    "# Then create the code using pandas dataframe to read agaricus-lepiota.data\n",
    "\n",
    "mr_df = pd.read_csv()\n",
    "\n",
    "# # sanity check - make sure data was read in as expected\n",
    "\n",
    "mr_df.head()\n"
   ]
  },
  {
   "cell_type": "markdown",
   "metadata": {},
   "source": [
    "### Part 2: Create an s3 bucket for that file"
   ]
  },
  {
   "cell_type": "code",
   "execution_count": null,
   "metadata": {},
   "outputs": [],
   "source": [
    "# create s3 bucket\n",
    "\n",
    "sess = boto3.Session(region_name='us-east-1')\n",
    "\n",
    "s3client=sess.client('s3')\n",
    "\n",
    "bucket_name = 'information-arch-final-project\n",
    "\n",
    "s3client.create_bucket ( Bucket = bucket_name)"
   ]
  },
  {
   "cell_type": "markdown",
   "metadata": {},
   "source": [
    "### Part 3: Upload file to s3 bucket"
   ]
  },
  {
   "cell_type": "code",
   "execution_count": null,
   "metadata": {},
   "outputs": [],
   "source": [
    "# use boto3 \n",
    "\n",
    "filename = 'finalproject.csv'\n",
    "\n",
    "bucket_name = 'information-arch-final-project'\n",
    "\n",
    "csv_buffer = StringIO()\n",
    "\n",
    "mr_df.to_csv(csv_buffer )\n",
    "\n",
    "client = boto3.client('s3')\n",
    "\n",
    "response = client.put_object (\n",
    "ACL ='private',\n",
    "Body = csv_buffer.getvalue(),\n",
    "Bucket = bucket_name,\n",
    "Key = filename )"
   ]
  },
  {
   "cell_type": "code",
   "execution_count": null,
   "metadata": {},
   "outputs": [],
   "source": [
    "# check the reault\n",
    "\n",
    "response"
   ]
  },
  {
   "cell_type": "markdown",
   "metadata": {},
   "source": [
    "### Part 4: Output a confirmation that file is on s3 bucket "
   ]
  },
  {
   "cell_type": "code",
   "execution_count": null,
   "metadata": {},
   "outputs": [],
   "source": [
    "path = 's3://information-arch-final-project/finalproject.csv'"
   ]
  },
  {
   "cell_type": "code",
   "execution_count": null,
   "metadata": {},
   "outputs": [],
   "source": [
    " # use pandas read_csv\n",
    "    \n",
    "df= pd.read_csv(path)\n",
    "\n",
    "# check the output\n",
    "\n",
    "df.head()"
   ]
  }
 ],
 "metadata": {
  "kernelspec": {
   "display_name": "Python 3",
   "language": "python",
   "name": "python3"
  },
  "language_info": {
   "codemirror_mode": {
    "name": "ipython",
    "version": 3
   },
   "file_extension": ".py",
   "mimetype": "text/x-python",
   "name": "python",
   "nbconvert_exporter": "python",
   "pygments_lexer": "ipython3",
   "version": "3.8.5"
  }
 },
 "nbformat": 4,
 "nbformat_minor": 4
}
